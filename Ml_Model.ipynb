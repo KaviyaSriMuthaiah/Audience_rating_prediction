{
  "nbformat": 4,
  "nbformat_minor": 0,
  "metadata": {
    "colab": {
      "provenance": [],
      "authorship_tag": "ABX9TyOvCNidG4V9DB84vN1GvKei"
    },
    "kernelspec": {
      "name": "python3",
      "display_name": "Python 3"
    },
    "language_info": {
      "name": "python"
    }
  },
  "cells": [
    {
      "cell_type": "markdown",
      "source": [
        "**\"AUDIENCE RATING PREDICTION USING ROTTEN TOMATOES MOVIES3 DATASET\"**"
      ],
      "metadata": {
        "id": "HGGOvz3PQuCg"
      }
    },
    {
      "cell_type": "markdown",
      "source": [
        "**IMPORT REQUIRED LIBRARIES**"
      ],
      "metadata": {
        "id": "ZC4CyFWQQ8oF"
      }
    },
    {
      "cell_type": "code",
      "source": [
        "# Basic Libraries\n",
        "import pandas as pd\n",
        "import numpy as np\n",
        "import seaborn as sns\n",
        "import matplotlib.pyplot as plt\n",
        "\n",
        "# Libraries for Correlation\n",
        "from scipy.stats import pearsonr, spearmanr\n",
        "\n",
        "# Libraries for Pre-processing\n",
        "from scipy.sparse import hstack\n",
        "from sklearn.model_selection import train_test_split\n",
        "from sklearn.feature_extraction.text import TfidfVectorizer\n",
        "\n",
        "# Libraries for Model Building\n",
        "from sklearn.svm import SVR\n",
        "from sklearn.linear_model import Ridge, Lasso\n",
        "from sklearn.linear_model import LinearRegression\n",
        "from sklearn.ensemble import GradientBoostingRegressor\n",
        "\n",
        "# Libraries for Evaluating the Model\n",
        "from sklearn.model_selection import cross_val_score\n",
        "from sklearn.metrics import mean_squared_error, r2_score, mean_absolute_error\n",
        "\n",
        "\n",
        "\n"
      ],
      "metadata": {
        "id": "f5Cm6FViQ5bq"
      },
      "execution_count": null,
      "outputs": []
    },
    {
      "cell_type": "markdown",
      "source": [
        "**LOAD AND VIEW THE DATASET**"
      ],
      "metadata": {
        "id": "IGK1vthCbdF8"
      }
    },
    {
      "cell_type": "code",
      "source": [
        "# Load the dataset\n",
        "data = pd.read_excel('/content/Rotten_Tomatoes_Movies3.xls')\n",
        "\n",
        "# Display the first few rows of the dataset\n",
        "print(data.head())\n"
      ],
      "metadata": {
        "colab": {
          "base_uri": "https://localhost:8080/"
        },
        "collapsed": true,
        "id": "4w87Y0TtozNp",
        "outputId": "eea0c550-a33c-414c-9aac-7936192e831b"
      },
      "execution_count": null,
      "outputs": [
        {
          "output_type": "stream",
          "name": "stdout",
          "text": [
            "                                         movie_title  \\\n",
            "0  Percy Jackson & the Olympians: The Lightning T...   \n",
            "1                                        Please Give   \n",
            "2                                                 10   \n",
            "3                    12 Angry Men (Twelve Angry Men)   \n",
            "4                       20,000 Leagues Under The Sea   \n",
            "\n",
            "                                          movie_info  \\\n",
            "0  A teenager discovers he's the descendant of a ...   \n",
            "1  Kate has a lot on her mind. There's the ethics...   \n",
            "2  Blake Edwards' 10 stars Dudley Moore as George...   \n",
            "3  A Puerto Rican youth is on trial for murder, a...   \n",
            "4  This 1954 Disney version of Jules Verne's 20,0...   \n",
            "\n",
            "                                   critics_consensus rating  \\\n",
            "0  Though it may seem like just another Harry Pot...     PG   \n",
            "1  Nicole Holofcener's newest might seem slight i...      R   \n",
            "2                                                NaN      R   \n",
            "3  Sidney Lumet's feature debut is a superbly wri...     NR   \n",
            "4  One of Disney's finest live-action adventures,...      G   \n",
            "\n",
            "                                               genre          directors  \\\n",
            "0  Action & Adventure, Comedy, Drama, Science Fic...     Chris Columbus   \n",
            "1                                             Comedy  Nicole Holofcener   \n",
            "2                                    Comedy, Romance      Blake Edwards   \n",
            "3                                    Classics, Drama       Sidney Lumet   \n",
            "4           Action & Adventure, Drama, Kids & Family  Richard Fleischer   \n",
            "\n",
            "             writers                                               cast  \\\n",
            "0       Craig Titley  Logan Lerman, Brandon T. Jackson, Alexandra Da...   \n",
            "1  Nicole Holofcener  Catherine Keener, Amanda Peet, Oliver Platt, R...   \n",
            "2      Blake Edwards  Dudley Moore, Bo Derek, Julie Andrews, Robert ...   \n",
            "3      Reginald Rose  Martin Balsam, John Fiedler, Lee J. Cobb, E.G....   \n",
            "4        Earl Felton  James Mason, Kirk Douglas, Paul Lukas, Peter L...   \n",
            "\n",
            "  in_theaters_date on_streaming_date  runtime_in_minutes  \\\n",
            "0       2010-02-12        2010-06-29                83.0   \n",
            "1       2010-04-30        2010-10-19                90.0   \n",
            "2       1979-10-05        1997-08-27               118.0   \n",
            "3       1957-04-13        2001-03-06                95.0   \n",
            "4       1954-01-01        2003-05-20               127.0   \n",
            "\n",
            "              studio_name tomatometer_status  tomatometer_rating  \\\n",
            "0        20th Century Fox             Rotten                  49   \n",
            "1  Sony Pictures Classics    Certified Fresh                  86   \n",
            "2             Waner Bros.              Fresh                  68   \n",
            "3    Criterion Collection    Certified Fresh                 100   \n",
            "4                  Disney              Fresh                  89   \n",
            "\n",
            "   tomatometer_count  audience_rating  \n",
            "0                144             53.0  \n",
            "1                140             64.0  \n",
            "2                 22             53.0  \n",
            "3                 51             97.0  \n",
            "4                 27             74.0  \n"
          ]
        }
      ]
    },
    {
      "cell_type": "markdown",
      "source": [
        "**EXPLORATORY DATA ANALYSIS (EDA)**"
      ],
      "metadata": {
        "id": "VbHnUb3fd2BY"
      }
    },
    {
      "cell_type": "code",
      "source": [
        "# Function to find the correlation and P-value between two continuous values using Pearson correlation\n",
        "\n",
        "def pearson(feature1: str, feature2: str):\n",
        "\n",
        "  \"\"\"Params:\n",
        "            - Feature1: Continuous variable\n",
        "            - Feature2: Continuous variable\n",
        "     Returns:\n",
        "            - Correlation value\n",
        "            - P value\n",
        "    Description:\n",
        "            - To find the correlation between two continuous variables.\"\"\"\n",
        "\n",
        "  corr, p_value = pearsonr(data[feature1], data[feature2])\n",
        "  print(corr)\n",
        "\n",
        "  if p_value < 0.05:\n",
        "    print(f\"The p_value is {p_value} which is less than 0.05. So, Reject the Null Hypothesis, there is a significant correlation between {feature1} and {feature2}\")\n",
        "  else:\n",
        "    print(f\"The p_value is {p_value} which is greater that 0.05. So, Failed to reject the Null Hypothesis, there is no significant correlation between {feature1} and {feature2}\")\n",
        "\n"
      ],
      "metadata": {
        "id": "XqH_lhQbp9F8"
      },
      "execution_count": null,
      "outputs": []
    },
    {
      "cell_type": "code",
      "source": [
        "# Function to find the correlation between two features using Scatter plot visualization\n",
        "\n",
        "def scatter_plot(x_axis: str, y_axis: str):\n",
        "\n",
        "  \"\"\"Params:\n",
        "            - X axis feature\n",
        "            - Y axis feature\n",
        "     Result:\n",
        "            - The scatter points visualization of two features\"\"\"\n",
        "\n",
        "  visual=plt.scatter(data[x_axis], data[y_axis], c=\"green\")\n",
        "  plt.xlabel(f'{x_axis}')\n",
        "  plt.ylabel(f'{y_axis}')\n",
        "\n",
        "  return visual\n",
        "\n"
      ],
      "metadata": {
        "id": "kffEtGqk783x"
      },
      "execution_count": null,
      "outputs": []
    },
    {
      "cell_type": "code",
      "source": [
        "# Function to find the correlation and P-value between ordinal and continuous values using Spearman correlation\n",
        "\n",
        "def spearman(feature1: str, feature2: str):\n",
        "\n",
        "  \"\"\"Params:\n",
        "            - Feature1:ordinal variable\n",
        "            - Feature2: Continuous variable\n",
        "     Returns:\n",
        "            - Correlation value\n",
        "            - P value\n",
        "    Description:\n",
        "            - To find the correlation between ordinal and continuous variables.\"\"\"\n",
        "\n",
        "  corr, p_value = spearmanr(data[feature1], data[feature2])\n",
        "  print(corr)\n",
        "\n",
        "  if p_value < 0.05:\n",
        "    print(f\"The p_value is {p_value} which is less than 0.05. So, Reject the Null Hypothesis, there is a significant correlation between {feature1} and {feature2}\")\n",
        "  else:\n",
        "    print(f\"The p_value is {p_value} which is greater that 0.05. So, Failed to reject the Null Hypothesis, there is no significant correlation between {feature1} and {feature2}\")\n",
        "\n"
      ],
      "metadata": {
        "id": "bx7crv5Sxe0M"
      },
      "execution_count": null,
      "outputs": []
    },
    {
      "cell_type": "code",
      "source": [
        "# Drop the null values in the Audience Rating column - target column\n",
        "\n",
        "data.dropna(subset=['audience_rating'], inplace=True)"
      ],
      "metadata": {
        "id": "1Qmldx8qUG6F"
      },
      "execution_count": null,
      "outputs": []
    },
    {
      "cell_type": "markdown",
      "source": [
        "**EDA USING PEARSON FUNCTION BETWEEN CONTINUOUS VALUES**"
      ],
      "metadata": {
        "id": "A0N0OhK0ezXL"
      }
    },
    {
      "cell_type": "markdown",
      "source": [
        "\n",
        "\n",
        "**Objective**: To test the relationship between the **Tomatometer Count** and the **Audience Rating**.\n",
        "\n",
        "---\n",
        "\n",
        "### **Hypotheses**\n",
        "\n",
        "1. **Null Hypothesis (H₀)**:  \n",
        "   *There is **no correlation** between the Tomatometer Count and the Audience Rating.*\n",
        "\n",
        "2. **Alternative Hypothesis (H₁)**:  \n",
        "   *There is a **correlation** between the Tomatometer Count and the Audience Rating.*\n"
      ],
      "metadata": {
        "id": "Im0BIKHxqBJD"
      }
    },
    {
      "cell_type": "code",
      "source": [
        "# Correlation and P-value of Tomatometer count and Audience Rating\n",
        "\n",
        "pearson('tomatometer_count', 'audience_rating')"
      ],
      "metadata": {
        "colab": {
          "base_uri": "https://localhost:8080/"
        },
        "id": "oDLobXLA2qLV",
        "outputId": "781c273d-81cc-4733-e15d-682766384269"
      },
      "execution_count": null,
      "outputs": [
        {
          "output_type": "stream",
          "name": "stdout",
          "text": [
            "0.14101197301996848\n",
            "The p_value is 1.5413859872893135e-73 which is less than 0.05. So, Reject the Null Hypothesis, there is a significant correlation between tomatometer_count and audience_rating\n"
          ]
        }
      ]
    },
    {
      "cell_type": "code",
      "source": [
        "# Scatter plot of Tomatometer count and Audience Rating\n",
        "\n",
        "scatter_plot('tomatometer_count', 'audience_rating')"
      ],
      "metadata": {
        "colab": {
          "base_uri": "https://localhost:8080/",
          "height": 466
        },
        "id": "UrwgPoFm_P7b",
        "outputId": "02865174-4b68-4d54-aa19-658871babc3a"
      },
      "execution_count": null,
      "outputs": [
        {
          "output_type": "execute_result",
          "data": {
            "text/plain": [
              "<matplotlib.collections.PathCollection at 0x7b0d0662b2e0>"
            ]
          },
          "metadata": {},
          "execution_count": 52
        },
        {
          "output_type": "display_data",
          "data": {
            "text/plain": [
              "<Figure size 640x480 with 1 Axes>"
            ],
            "image/png": "[encoded data removed]"
          },
          "metadata": {}
        }
      ]
    },
    {
      "cell_type": "markdown",
      "source": [
        "**Insights from scatter plot (Tomatometer count and Audience Rating):**  \n",
        "- Based on the scatter plot, the audience rating remains **high** even when the Tomatometer count is **low**.  \n",
        "- As the Tomatometer count increases, only a small number of audience ratings show a noticeable increase.  \n",
        "- This suggests a **weak correlation** between the Tomatometer count and the audience rating.\n"
      ],
      "metadata": {
        "id": "CrAsHv_i_4PY"
      }
    },
    {
      "cell_type": "markdown",
      "source": [
        "**Objective**: To test the relationship between the **Tomatometer rating** and the **Audience Rating**.\n",
        "\n",
        "---\n",
        "\n",
        "### **Hypotheses**\n",
        "\n",
        "1. **Null Hypothesis (H₀)**:  \n",
        "   *There is **no correlation** between the Tomatometer rating and the Audience Rating.*\n",
        "\n",
        "2. **Alternative Hypothesis (H₁)**:  \n",
        "   *There is a **correlation** between the Tomatometer rating and the Audience Rating.*"
      ],
      "metadata": {
        "id": "T5Q-UwnijCdE"
      }
    },
    {
      "cell_type": "code",
      "source": [
        "# Correlation and P-value of Tomatometer rating and Audience Rating\n",
        "\n",
        "pearson('tomatometer_rating', 'audience_rating')"
      ],
      "metadata": {
        "colab": {
          "base_uri": "https://localhost:8080/"
        },
        "id": "rB2_1vtTjAjb",
        "outputId": "04229d47-9151-4a1f-a04c-188de83de5ba"
      },
      "execution_count": null,
      "outputs": [
        {
          "output_type": "stream",
          "name": "stdout",
          "text": [
            "0.6601109535533509\n",
            "The p_value is 0.0 which is less than 0.05. So, Reject the Null Hypothesis, there is a significant correlation between tomatometer_rating and audience_rating\n"
          ]
        }
      ]
    },
    {
      "cell_type": "code",
      "source": [
        "# Scatter plot of Tomatometer rating and Audience Rating\n",
        "\n",
        "scatter_plot('tomatometer_rating', 'audience_rating')"
      ],
      "metadata": {
        "colab": {
          "base_uri": "https://localhost:8080/",
          "height": 467
        },
        "id": "ufoC6cPjnFUS",
        "outputId": "4985961c-41fe-4a6e-8a69-89848ab038c8"
      },
      "execution_count": null,
      "outputs": [
        {
          "output_type": "execute_result",
          "data": {
            "text/plain": [
              "<matplotlib.collections.PathCollection at 0x7b0d05730af0>"
            ]
          },
          "metadata": {},
          "execution_count": 54
        },
        {
          "output_type": "display_data",
          "data": {
            "text/plain": [
              "<Figure size 640x480 with 1 Axes>"
            ],
            "image/png": "[encoded data removed]"
          },
          "metadata": {}
        }
      ]
    },
    {
      "cell_type": "markdown",
      "source": [
        "**Insight from the Scatter Plot**:\n",
        "\n",
        "-Based on the scatter plot, the audience rating remains **high** even when the Tomatometer rating is **low**.\n",
        "\n",
        "-As the Tomatometer rating **increases**, the audience rating shows a **slight upward trend**, but the points are widely scattered.\n",
        "\n",
        "-This suggests a **weak to moderate correlation** between the Tomatometer rating and the audience rating."
      ],
      "metadata": {
        "id": "INQ7nJTNvY4E"
      }
    },
    {
      "cell_type": "markdown",
      "source": [
        "\n",
        "**Objective**: To test the relationship between the **Runtime** and the **Audience Rating**.\n",
        "\n",
        "---\n",
        "\n",
        "### **Hypotheses**\n",
        "\n",
        "1. **Null Hypothesis (H₀)**:  \n",
        "   *There is **no correlation** between the Runtime and the Audience Rating.*\n",
        "\n",
        "2. **Alternative Hypothesis (H₁)**:  \n",
        "   *There is a **correlation** between the Runtime and the Audience Rating.*"
      ],
      "metadata": {
        "id": "Je8nUMGel6a6"
      }
    },
    {
      "cell_type": "code",
      "source": [
        "# Drop the null values in the runtime column\n",
        "\n",
        "data.dropna(subset=['runtime_in_minutes'], inplace=True)"
      ],
      "metadata": {
        "id": "7kHRZJhPlnKG"
      },
      "execution_count": null,
      "outputs": []
    },
    {
      "cell_type": "code",
      "source": [
        "# Correlation and P-value of Runtime and Audience Rating\n",
        "\n",
        "pearson('runtime_in_minutes', 'audience_rating')"
      ],
      "metadata": {
        "colab": {
          "base_uri": "https://localhost:8080/"
        },
        "id": "JKb_1uG_lXHg",
        "outputId": "a153b2d3-f6db-494b-f0b6-2a09583574db"
      },
      "execution_count": null,
      "outputs": [
        {
          "output_type": "stream",
          "name": "stdout",
          "text": [
            "0.16850667031247893\n",
            "The p_value is 1.0149340621954882e-103 which is less than 0.05. So, Reject the Null Hypothesis, there is a significant correlation between runtime_in_minutes and audience_rating\n"
          ]
        }
      ]
    },
    {
      "cell_type": "code",
      "source": [
        "# Scatter plot of Runtime and Audience Rating\n",
        "\n",
        "scatter_plot('runtime_in_minutes', 'audience_rating')"
      ],
      "metadata": {
        "colab": {
          "base_uri": "https://localhost:8080/",
          "height": 467
        },
        "id": "Pxw_jlo3ls7F",
        "outputId": "6bf48dfe-a7c8-48c6-cb6a-3e102225e1c6"
      },
      "execution_count": null,
      "outputs": [
        {
          "output_type": "execute_result",
          "data": {
            "text/plain": [
              "<matplotlib.collections.PathCollection at 0x7b0d06c11c60>"
            ]
          },
          "metadata": {},
          "execution_count": 57
        },
        {
          "output_type": "display_data",
          "data": {
            "text/plain": [
              "<Figure size 640x480 with 1 Axes>"
            ],
            "image/png": "[encoded data removed]"
          },
          "metadata": {}
        }
      ]
    },
    {
      "cell_type": "markdown",
      "source": [
        "**Insight from the Scatter Plot:**\n",
        "\n",
        "-There appears to be **little to no correlation** between runtime and audience rating, as the points are widely scattered vertically.\n",
        "\n",
        "-The presence of outliers with extremely high runtimes suggests potential data issues or unusual cases, but they do not strongly influence the overall relationship."
      ],
      "metadata": {
        "id": "G5c4_qujmW6g"
      }
    },
    {
      "cell_type": "markdown",
      "source": [
        "**EDA USING SPEARMAN FUNCTION BETWEEN ORDINAL AND CONTINUOUS VALUES**"
      ],
      "metadata": {
        "id": "I2hak0oVfTzU"
      }
    },
    {
      "cell_type": "markdown",
      "source": [
        "**Objective**: To test the relationship between the **Tomatometer status** and the **Audience Rating**.\n",
        "\n",
        "---\n",
        "\n",
        "### **Hypotheses**\n",
        "\n",
        "1. **Null Hypothesis (H₀)**:  \n",
        "   *There is **no correlation** between the Tomatometer status and the Audience Rating.*\n",
        "\n",
        "2. **Alternative Hypothesis (H₁)**:  \n",
        "   *There is a **correlation** between the Tomatometer status and the Audience Rating.*"
      ],
      "metadata": {
        "id": "VzsCvl-njUaJ"
      }
    },
    {
      "cell_type": "code",
      "source": [
        "# Mapping the categorical Tomatometer status with numerical points\n",
        "\n",
        "mapping = {'Fresh': 1, 'Rotten': 0, 'Certified Fresh': 2}\n",
        "data['tomatometer_status_numerical'] = data['tomatometer_status'].map(mapping)\n",
        "print(data.head())"
      ],
      "metadata": {
        "colab": {
          "base_uri": "https://localhost:8080/"
        },
        "id": "h__Kk7kIpGzg",
        "outputId": "6a876f4e-7882-46ed-845a-579ce9b1b872",
        "collapsed": true
      },
      "execution_count": null,
      "outputs": [
        {
          "output_type": "stream",
          "name": "stdout",
          "text": [
            "                                         movie_title  \\\n",
            "0  Percy Jackson & the Olympians: The Lightning T...   \n",
            "1                                        Please Give   \n",
            "2                                                 10   \n",
            "3                    12 Angry Men (Twelve Angry Men)   \n",
            "4                       20,000 Leagues Under The Sea   \n",
            "\n",
            "                                          movie_info  \\\n",
            "0  A teenager discovers he's the descendant of a ...   \n",
            "1  Kate has a lot on her mind. There's the ethics...   \n",
            "2  Blake Edwards' 10 stars Dudley Moore as George...   \n",
            "3  A Puerto Rican youth is on trial for murder, a...   \n",
            "4  This 1954 Disney version of Jules Verne's 20,0...   \n",
            "\n",
            "                                   critics_consensus rating  \\\n",
            "0  Though it may seem like just another Harry Pot...     PG   \n",
            "1  Nicole Holofcener's newest might seem slight i...      R   \n",
            "2                                                NaN      R   \n",
            "3  Sidney Lumet's feature debut is a superbly wri...     NR   \n",
            "4  One of Disney's finest live-action adventures,...      G   \n",
            "\n",
            "                                               genre          directors  \\\n",
            "0  Action & Adventure, Comedy, Drama, Science Fic...     Chris Columbus   \n",
            "1                                             Comedy  Nicole Holofcener   \n",
            "2                                    Comedy, Romance      Blake Edwards   \n",
            "3                                    Classics, Drama       Sidney Lumet   \n",
            "4           Action & Adventure, Drama, Kids & Family  Richard Fleischer   \n",
            "\n",
            "             writers                                               cast  \\\n",
            "0       Craig Titley  Logan Lerman, Brandon T. Jackson, Alexandra Da...   \n",
            "1  Nicole Holofcener  Catherine Keener, Amanda Peet, Oliver Platt, R...   \n",
            "2      Blake Edwards  Dudley Moore, Bo Derek, Julie Andrews, Robert ...   \n",
            "3      Reginald Rose  Martin Balsam, John Fiedler, Lee J. Cobb, E.G....   \n",
            "4        Earl Felton  James Mason, Kirk Douglas, Paul Lukas, Peter L...   \n",
            "\n",
            "  in_theaters_date on_streaming_date  runtime_in_minutes  \\\n",
            "0       2010-02-12        2010-06-29                83.0   \n",
            "1       2010-04-30        2010-10-19                90.0   \n",
            "2       1979-10-05        1997-08-27               118.0   \n",
            "3       1957-04-13        2001-03-06                95.0   \n",
            "4       1954-01-01        2003-05-20               127.0   \n",
            "\n",
            "              studio_name tomatometer_status  tomatometer_rating  \\\n",
            "0        20th Century Fox             Rotten                  49   \n",
            "1  Sony Pictures Classics    Certified Fresh                  86   \n",
            "2             Waner Bros.              Fresh                  68   \n",
            "3    Criterion Collection    Certified Fresh                 100   \n",
            "4                  Disney              Fresh                  89   \n",
            "\n",
            "   tomatometer_count  audience_rating  tomatometer_status_numerical  \n",
            "0                144             53.0                             0  \n",
            "1                140             64.0                             2  \n",
            "2                 22             53.0                             1  \n",
            "3                 51             97.0                             2  \n",
            "4                 27             74.0                             1  \n"
          ]
        }
      ]
    },
    {
      "cell_type": "code",
      "source": [
        "# Correlation and P-value of Tomatometer status and Audience Rating\n",
        "\n",
        "spearman('tomatometer_status_numerical', 'audience_rating')"
      ],
      "metadata": {
        "colab": {
          "base_uri": "https://localhost:8080/"
        },
        "id": "N9-pBeX0ajKY",
        "outputId": "c4b5295f-7970-44e4-9a53-38489995e371"
      },
      "execution_count": null,
      "outputs": [
        {
          "output_type": "stream",
          "name": "stdout",
          "text": [
            "0.6002081265810394\n",
            "The p_value is 0.0 which is less than 0.05. So, Reject the Null Hypothesis, there is a significant correlation between tomatometer_status_numerical and audience_rating\n"
          ]
        }
      ]
    },
    {
      "cell_type": "markdown",
      "source": [
        "**Objective**: To test the relationship between the **Rating** and the **Audience Rating**.\n",
        "\n",
        "---\n",
        "\n",
        "### **Hypotheses**\n",
        "\n",
        "1. **Null Hypothesis (H₀)**:  \n",
        "   *There is **no correlation** between the Rating and the Audience Rating.*\n",
        "\n",
        "2. **Alternative Hypothesis (H₁)**:  \n",
        "   *There is a **correlation** between the Rating and the Audience Rating.*"
      ],
      "metadata": {
        "id": "hxCeFJ4ejO2J"
      }
    },
    {
      "cell_type": "code",
      "source": [
        "# Identify the unique values in the rating column\n",
        "\n",
        "data['rating'].unique()"
      ],
      "metadata": {
        "colab": {
          "base_uri": "https://localhost:8080/"
        },
        "id": "-_wXd3jwgN0_",
        "outputId": "f6608756-4f03-465d-cf21-c891fbfa3110"
      },
      "execution_count": null,
      "outputs": [
        {
          "output_type": "execute_result",
          "data": {
            "text/plain": [
              "array(['PG', 'R', 'NR', 'G', 'PG-13', 'PG-13)', 'NC17', 'R)'],\n",
              "      dtype=object)"
            ]
          },
          "metadata": {},
          "execution_count": 60
        }
      ]
    },
    {
      "cell_type": "code",
      "source": [
        "# Remove ')' from values in the 'rating' column\n",
        "\n",
        "data['rating'] = data['rating'].str.replace(')', '', regex=False)"
      ],
      "metadata": {
        "collapsed": true,
        "id": "-Uw8vZZ-ilND"
      },
      "execution_count": null,
      "outputs": []
    },
    {
      "cell_type": "code",
      "source": [
        "# Again checking the unique values after removed ')'\n",
        "\n",
        "data['rating'].unique()"
      ],
      "metadata": {
        "colab": {
          "base_uri": "https://localhost:8080/"
        },
        "id": "jt7X8Wo0isS9",
        "outputId": "482804eb-aba6-4c5a-ee64-d18921bb3b0c"
      },
      "execution_count": null,
      "outputs": [
        {
          "output_type": "execute_result",
          "data": {
            "text/plain": [
              "array(['PG', 'R', 'NR', 'G', 'PG-13', 'NC17'], dtype=object)"
            ]
          },
          "metadata": {},
          "execution_count": 62
        }
      ]
    },
    {
      "cell_type": "code",
      "source": [
        "# Define the mapping for rating categories\n",
        "\n",
        "rating_mapping = {\n",
        "    'G': 0,\n",
        "    'PG': 1,\n",
        "    'PG-13': 2,\n",
        "    'R': 3,\n",
        "    'NC17': 4,\n",
        "    'NR': 5\n",
        "}\n",
        "\n",
        "data['rating_numerical'] = data['rating'].map(rating_mapping)\n",
        "\n",
        "print(data.head())\n"
      ],
      "metadata": {
        "colab": {
          "base_uri": "https://localhost:8080/"
        },
        "collapsed": true,
        "id": "w5p_CC6Tkqe_",
        "outputId": "c18c7f4c-f2c0-43fa-b29a-26007e9a667d"
      },
      "execution_count": null,
      "outputs": [
        {
          "output_type": "stream",
          "name": "stdout",
          "text": [
            "                                         movie_title  \\\n",
            "0  Percy Jackson & the Olympians: The Lightning T...   \n",
            "1                                        Please Give   \n",
            "2                                                 10   \n",
            "3                    12 Angry Men (Twelve Angry Men)   \n",
            "4                       20,000 Leagues Under The Sea   \n",
            "\n",
            "                                          movie_info  \\\n",
            "0  A teenager discovers he's the descendant of a ...   \n",
            "1  Kate has a lot on her mind. There's the ethics...   \n",
            "2  Blake Edwards' 10 stars Dudley Moore as George...   \n",
            "3  A Puerto Rican youth is on trial for murder, a...   \n",
            "4  This 1954 Disney version of Jules Verne's 20,0...   \n",
            "\n",
            "                                   critics_consensus rating  \\\n",
            "0  Though it may seem like just another Harry Pot...     PG   \n",
            "1  Nicole Holofcener's newest might seem slight i...      R   \n",
            "2                                                NaN      R   \n",
            "3  Sidney Lumet's feature debut is a superbly wri...     NR   \n",
            "4  One of Disney's finest live-action adventures,...      G   \n",
            "\n",
            "                                               genre          directors  \\\n",
            "0  Action & Adventure, Comedy, Drama, Science Fic...     Chris Columbus   \n",
            "1                                             Comedy  Nicole Holofcener   \n",
            "2                                    Comedy, Romance      Blake Edwards   \n",
            "3                                    Classics, Drama       Sidney Lumet   \n",
            "4           Action & Adventure, Drama, Kids & Family  Richard Fleischer   \n",
            "\n",
            "             writers                                               cast  \\\n",
            "0       Craig Titley  Logan Lerman, Brandon T. Jackson, Alexandra Da...   \n",
            "1  Nicole Holofcener  Catherine Keener, Amanda Peet, Oliver Platt, R...   \n",
            "2      Blake Edwards  Dudley Moore, Bo Derek, Julie Andrews, Robert ...   \n",
            "3      Reginald Rose  Martin Balsam, John Fiedler, Lee J. Cobb, E.G....   \n",
            "4        Earl Felton  James Mason, Kirk Douglas, Paul Lukas, Peter L...   \n",
            "\n",
            "  in_theaters_date on_streaming_date  runtime_in_minutes  \\\n",
            "0       2010-02-12        2010-06-29                83.0   \n",
            "1       2010-04-30        2010-10-19                90.0   \n",
            "2       1979-10-05        1997-08-27               118.0   \n",
            "3       1957-04-13        2001-03-06                95.0   \n",
            "4       1954-01-01        2003-05-20               127.0   \n",
            "\n",
            "              studio_name tomatometer_status  tomatometer_rating  \\\n",
            "0        20th Century Fox             Rotten                  49   \n",
            "1  Sony Pictures Classics    Certified Fresh                  86   \n",
            "2             Waner Bros.              Fresh                  68   \n",
            "3    Criterion Collection    Certified Fresh                 100   \n",
            "4                  Disney              Fresh                  89   \n",
            "\n",
            "   tomatometer_count  audience_rating  tomatometer_status_numerical  \\\n",
            "0                144             53.0                             0   \n",
            "1                140             64.0                             2   \n",
            "2                 22             53.0                             1   \n",
            "3                 51             97.0                             2   \n",
            "4                 27             74.0                             1   \n",
            "\n",
            "   rating_numerical  \n",
            "0                 1  \n",
            "1                 3  \n",
            "2                 3  \n",
            "3                 5  \n",
            "4                 0  \n"
          ]
        }
      ]
    },
    {
      "cell_type": "code",
      "source": [
        "# Correlation and P-value of Rating and Audience Rating\n",
        "\n",
        "spearman('rating_numerical', 'audience_rating')"
      ],
      "metadata": {
        "colab": {
          "base_uri": "https://localhost:8080/"
        },
        "id": "9j2wFgoTiwby",
        "outputId": "aaa67d30-3b0b-4445-9a21-a726755c3a7b"
      },
      "execution_count": null,
      "outputs": [
        {
          "output_type": "stream",
          "name": "stdout",
          "text": [
            "0.025191735806609775\n",
            "The p_value is 0.0013250239635347594 which is less than 0.05. So, Reject the Null Hypothesis, there is a significant correlation between rating_numerical and audience_rating\n"
          ]
        }
      ]
    },
    {
      "cell_type": "code",
      "source": [
        "# Drop the null values in the text type columns\n",
        "\n",
        "text_columns = data.select_dtypes(include=['object']).columns\n",
        "data = data.dropna(subset=text_columns)"
      ],
      "metadata": {
        "id": "xjfLFWoF8UhL"
      },
      "execution_count": null,
      "outputs": []
    },
    {
      "cell_type": "code",
      "source": [
        "# After removing null values from the main dataframe\n",
        "\n",
        "data.info()"
      ],
      "metadata": {
        "colab": {
          "base_uri": "https://localhost:8080/"
        },
        "id": "bcC8hkoT8xhI",
        "outputId": "252132d6-a47e-4acd-93f6-521aa3f4ee43"
      },
      "execution_count": null,
      "outputs": [
        {
          "output_type": "stream",
          "name": "stdout",
          "text": [
            "<class 'pandas.core.frame.DataFrame'>\n",
            "Index: 7690 entries, 0 to 16634\n",
            "Data columns (total 18 columns):\n",
            " #   Column                        Non-Null Count  Dtype         \n",
            "---  ------                        --------------  -----         \n",
            " 0   movie_title                   7690 non-null   object        \n",
            " 1   movie_info                    7690 non-null   object        \n",
            " 2   critics_consensus             7690 non-null   object        \n",
            " 3   rating                        7690 non-null   object        \n",
            " 4   genre                         7690 non-null   object        \n",
            " 5   directors                     7690 non-null   object        \n",
            " 6   writers                       7690 non-null   object        \n",
            " 7   cast                          7690 non-null   object        \n",
            " 8   in_theaters_date              7610 non-null   datetime64[ns]\n",
            " 9   on_streaming_date             7690 non-null   datetime64[ns]\n",
            " 10  runtime_in_minutes            7690 non-null   float64       \n",
            " 11  studio_name                   7690 non-null   object        \n",
            " 12  tomatometer_status            7690 non-null   object        \n",
            " 13  tomatometer_rating            7690 non-null   int64         \n",
            " 14  tomatometer_count             7690 non-null   int64         \n",
            " 15  audience_rating               7690 non-null   float64       \n",
            " 16  tomatometer_status_numerical  7690 non-null   int64         \n",
            " 17  rating_numerical              7690 non-null   int64         \n",
            "dtypes: datetime64[ns](2), float64(2), int64(4), object(10)\n",
            "memory usage: 1.1+ MB\n"
          ]
        }
      ]
    },
    {
      "cell_type": "code",
      "source": [
        "# One-hot encoding for genre column\n",
        "\n",
        "# Step 1: Split the data values using regex pattern in the genre column\n",
        "data['genre'] = data['genre'].str.split(',\\s*')\n",
        "\n",
        "# Step 2: Use pd.get_dummies to one-hot encode the genres\n",
        "genre_dummies = data['genre'].explode().str.get_dummies().groupby(level=0).max()\n",
        "\n",
        "# Step 3: Join the dummy columns back to the original DataFrame\n",
        "data = data.join(genre_dummies)\n"
      ],
      "metadata": {
        "id": "c3gfLcWM6L3N",
        "colab": {
          "base_uri": "https://localhost:8080/"
        },
        "outputId": "14b772f3-79e9-460f-bd5c-52278203dadd"
      },
      "execution_count": null,
      "outputs": [
        {
          "output_type": "stream",
          "name": "stderr",
          "text": [
            "<ipython-input-67-eee6d2bf0ba8>:4: SettingWithCopyWarning: \n",
            "A value is trying to be set on a copy of a slice from a DataFrame.\n",
            "Try using .loc[row_indexer,col_indexer] = value instead\n",
            "\n",
            "See the caveats in the documentation: https://pandas.pydata.org/pandas-docs/stable/user_guide/indexing.html#returning-a-view-versus-a-copy\n",
            "  data['genre'] = data['genre'].str.split(',\\s*')\n"
          ]
        }
      ]
    },
    {
      "cell_type": "code",
      "source": [
        "# Check whether the encoded columns are added in the main dataframe\n",
        "\n",
        "data.info()"
      ],
      "metadata": {
        "colab": {
          "base_uri": "https://localhost:8080/"
        },
        "id": "8ttnpSrx-KcF",
        "outputId": "670b9391-0b75-4595-ed6c-80b00b3ec5f4"
      },
      "execution_count": null,
      "outputs": [
        {
          "output_type": "stream",
          "name": "stdout",
          "text": [
            "<class 'pandas.core.frame.DataFrame'>\n",
            "Index: 7690 entries, 0 to 16634\n",
            "Data columns (total 39 columns):\n",
            " #   Column                        Non-Null Count  Dtype         \n",
            "---  ------                        --------------  -----         \n",
            " 0   movie_title                   7690 non-null   object        \n",
            " 1   movie_info                    7690 non-null   object        \n",
            " 2   critics_consensus             7690 non-null   object        \n",
            " 3   rating                        7690 non-null   object        \n",
            " 4   genre                         7690 non-null   object        \n",
            " 5   directors                     7690 non-null   object        \n",
            " 6   writers                       7690 non-null   object        \n",
            " 7   cast                          7690 non-null   object        \n",
            " 8   in_theaters_date              7610 non-null   datetime64[ns]\n",
            " 9   on_streaming_date             7690 non-null   datetime64[ns]\n",
            " 10  runtime_in_minutes            7690 non-null   float64       \n",
            " 11  studio_name                   7690 non-null   object        \n",
            " 12  tomatometer_status            7690 non-null   object        \n",
            " 13  tomatometer_rating            7690 non-null   int64         \n",
            " 14  tomatometer_count             7690 non-null   int64         \n",
            " 15  audience_rating               7690 non-null   float64       \n",
            " 16  tomatometer_status_numerical  7690 non-null   int64         \n",
            " 17  rating_numerical              7690 non-null   int64         \n",
            " 18  Action & Adventure            7690 non-null   int64         \n",
            " 19  Animation                     7690 non-null   int64         \n",
            " 20  Anime & Manga                 7690 non-null   int64         \n",
            " 21  Art House & International     7690 non-null   int64         \n",
            " 22  Classics                      7690 non-null   int64         \n",
            " 23  Comedy                        7690 non-null   int64         \n",
            " 24  Cult Movies                   7690 non-null   int64         \n",
            " 25  Documentary                   7690 non-null   int64         \n",
            " 26  Drama                         7690 non-null   int64         \n",
            " 27  Faith & Spirituality          7690 non-null   int64         \n",
            " 28  Gay & Lesbian                 7690 non-null   int64         \n",
            " 29  Horror                        7690 non-null   int64         \n",
            " 30  Kids & Family                 7690 non-null   int64         \n",
            " 31  Musical & Performing Arts     7690 non-null   int64         \n",
            " 32  Mystery & Suspense            7690 non-null   int64         \n",
            " 33  Romance                       7690 non-null   int64         \n",
            " 34  Science Fiction & Fantasy     7690 non-null   int64         \n",
            " 35  Special Interest              7690 non-null   int64         \n",
            " 36  Sports & Fitness              7690 non-null   int64         \n",
            " 37  Television                    7690 non-null   int64         \n",
            " 38  Western                       7690 non-null   int64         \n",
            "dtypes: datetime64[ns](2), float64(2), int64(25), object(10)\n",
            "memory usage: 2.3+ MB\n"
          ]
        }
      ]
    },
    {
      "cell_type": "markdown",
      "source": [
        "**FEATURE ENGINEERING FOR TEXT COLUMNS**"
      ],
      "metadata": {
        "id": "5bz4WsSLis6h"
      }
    },
    {
      "cell_type": "code",
      "source": [
        "# Text columns to be vectorized\n",
        "text_columns = ['movie_info', 'critics_consensus']\n",
        "\n",
        "# Numerical columns to include in the model\n",
        "numerical_columns = ['runtime_in_minutes', 'tomatometer_rating', 'tomatometer_count',\n",
        "                     'tomatometer_status_numerical', 'rating_numerical', 'Anime & Manga', 'Mystery & Suspense',\n",
        "                     'Faith & Spirituality', 'Action & Adventure', 'Romance', 'Television', 'Western', 'Kids & Family',\n",
        "                     'Special Interest', 'Drama', 'Comedy', 'Documentary', 'Art House & International',\n",
        "                     'Cult Movies', 'Animation', 'Classics', 'Gay & Lesbian', 'Musical & Performing Arts',\n",
        "                     'Sports & Fitness', 'Horror', 'Science Fiction & Fantasy']\n",
        "\n",
        "\n",
        "target_column = 'audience_rating'\n",
        "\n",
        "# Step 1: Separate features and target\n",
        "X_text = data[text_columns]\n",
        "X_numerical = data[numerical_columns]\n",
        "y = data[target_column]\n",
        "\n",
        "# Step 2: Initialize vectorizers\n",
        "tfidf_critic = TfidfVectorizer(max_features=100)\n",
        "tfidf_info = TfidfVectorizer(max_features=100)\n",
        "\n",
        "# Step 3: Fit and transform the text data\n",
        "X_critic_tfidf = tfidf_critic.fit_transform(X_text['critics_consensus'])\n",
        "X_info_tfidf = tfidf_info.fit_transform(X_text['movie_info'])\n",
        "\n",
        "# Step 4: Combine vectorized text data with numerical data\n",
        "X_combined = hstack([X_critic_tfidf, X_info_tfidf, X_numerical])\n",
        "\n"
      ],
      "metadata": {
        "id": "ssF1lo8sqOcg"
      },
      "execution_count": null,
      "outputs": []
    },
    {
      "cell_type": "markdown",
      "source": [
        "**SPLITTING THE DATA FOR TRAINING AND TESTING**"
      ],
      "metadata": {
        "id": "m1IxBVxxi_tE"
      }
    },
    {
      "cell_type": "code",
      "source": [
        "# Train-Test split\n",
        "X_train, X_test, y_train, y_test = train_test_split(X_combined, y, test_size=0.2, random_state=42)"
      ],
      "metadata": {
        "id": "H3u0M8XFtPA2"
      },
      "execution_count": null,
      "outputs": []
    },
    {
      "cell_type": "markdown",
      "source": [
        "**MODEL BUILDING FOR PREDICTING THE AUDIENCE RATING**"
      ],
      "metadata": {
        "id": "qXB1thdej4iY"
      }
    },
    {
      "cell_type": "code",
      "source": [
        "# Linear Regression model\n",
        "\n",
        "linear_regressor = LinearRegression()\n",
        "linear_cv_scores = cross_val_score(linear_regressor, X_train, y_train, cv=5, scoring='r2')\n",
        "print(f\"Linear Regression - Mean R²: {linear_cv_scores.mean():.4f}, Std Dev R²: {linear_cv_scores.std():.4f}\")"
      ],
      "metadata": {
        "colab": {
          "base_uri": "https://localhost:8080/"
        },
        "id": "XsdO0VNxjqjB",
        "outputId": "3b685611-40ca-4549-d607-b8b1814ab086"
      },
      "execution_count": null,
      "outputs": [
        {
          "output_type": "stream",
          "name": "stdout",
          "text": [
            "Linear Regression - Mean R²: 0.5523, Std Dev R²: 0.0173\n"
          ]
        }
      ]
    },
    {
      "cell_type": "code",
      "source": [
        "# Gradient Boosting Regressor model\n",
        "\n",
        "gradient_boosting = GradientBoostingRegressor(n_estimators=100, random_state=42)\n",
        "gradient_boosting.fit(X_train, y_train)\n",
        "gradient_boosting_cv_scores = cross_val_score(gradient_boosting, X_train, y_train, cv=5, scoring='r2')\n",
        "print(f\"Gradient Boosting Regressor - Mean R²: {gradient_boosting_cv_scores.mean():.4f}, Std Dev R²: {gradient_boosting_cv_scores.std():.4f}\")\n"
      ],
      "metadata": {
        "colab": {
          "base_uri": "https://localhost:8080/"
        },
        "id": "Byp-DA-Z9ZpC",
        "outputId": "e30e65ea-d044-4622-dbd2-b26da685a876"
      },
      "execution_count": null,
      "outputs": [
        {
          "output_type": "stream",
          "name": "stdout",
          "text": [
            "Gradient Boosting Regressor - Mean R²: 0.5747, Std Dev R²: 0.0162\n"
          ]
        }
      ]
    },
    {
      "cell_type": "code",
      "source": [
        "# Support Vector Regressor model\n",
        "\n",
        "svr = SVR(kernel='rbf')\n",
        "svr_cv_scores = cross_val_score(svr, X_train, y_train, cv=5, scoring='r2')\n",
        "print(f\"Support Vector Regressor - Mean R²: {svr_cv_scores.mean():.4f}, Std Dev R²: {svr_cv_scores.std():.4f}\")\n"
      ],
      "metadata": {
        "colab": {
          "base_uri": "https://localhost:8080/"
        },
        "id": "IlebBhGv9dzd",
        "outputId": "1efd1d40-afbb-4af8-9cac-1280ad99484f"
      },
      "execution_count": null,
      "outputs": [
        {
          "output_type": "stream",
          "name": "stdout",
          "text": [
            "Support Vector Regressor - Mean R²: 0.5211, Std Dev R²: 0.0188\n"
          ]
        }
      ]
    },
    {
      "cell_type": "code",
      "source": [
        "# Ridge Regression model\n",
        "\n",
        "ridge = Ridge(alpha=1.0)\n",
        "ridge_cv_scores = cross_val_score(ridge, X_train, y_train, cv=5, scoring='r2')\n",
        "print(f\"Ridge Regression - Mean R²: {ridge_cv_scores.mean():.4f}, Std Dev R²: {ridge_cv_scores.std():.4f}\")\n"
      ],
      "metadata": {
        "colab": {
          "base_uri": "https://localhost:8080/"
        },
        "id": "-o4JEEuS9ggb",
        "outputId": "5f1aa9d1-1e13-437b-fad4-99cb168d7601"
      },
      "execution_count": null,
      "outputs": [
        {
          "output_type": "stream",
          "name": "stdout",
          "text": [
            "Ridge Regression - Mean R²: 0.5535, Std Dev R²: 0.0169\n"
          ]
        }
      ]
    },
    {
      "cell_type": "code",
      "source": [
        "# Lasso Regression model\n",
        "\n",
        "lasso = Lasso(alpha=0.1)\n",
        "lasso_cv_scores = cross_val_score(lasso, X_train, y_train, cv=5, scoring='r2')\n",
        "print(f\"Lasso Regression - Mean R²: {lasso_cv_scores.mean():.4f}, Std Dev R²: {lasso_cv_scores.std():.4f}\")\n"
      ],
      "metadata": {
        "colab": {
          "base_uri": "https://localhost:8080/"
        },
        "id": "o9n-QnPN9jjC",
        "outputId": "0a150770-8387-4928-999f-2e82012bfcf0"
      },
      "execution_count": null,
      "outputs": [
        {
          "output_type": "stream",
          "name": "stdout",
          "text": [
            "Lasso Regression - Mean R²: 0.5491, Std Dev R²: 0.0184\n"
          ]
        }
      ]
    },
    {
      "cell_type": "markdown",
      "source": [
        "**MODEL SELECTION**"
      ],
      "metadata": {
        "id": "GCyVKyDflrC3"
      }
    },
    {
      "cell_type": "markdown",
      "source": [
        "\n",
        "\n",
        "- After evaluating various models for regression tasks, the **Gradient Boosting Regressor** has demonstrated superior performance compared to others.\n",
        "\n",
        "- The model achieved a **mean R² score of 0.5747**, with a **standard deviation of 0.0162**, indicating both a strong fit to the data and consistent performance across different folds.\n",
        "\n",
        "- This performance is notably better than the other models tested, making the Gradient Boosting Regressor the most reliable model for this specific **prediction task**.\n",
        "\n",
        "- Given its robust performance, this model will be utilized for further predictions."
      ],
      "metadata": {
        "id": "e7G1oMxTkiwE"
      }
    },
    {
      "cell_type": "markdown",
      "source": [
        "**MODEL EVALUATION**"
      ],
      "metadata": {
        "id": "sScblFkZltX8"
      }
    },
    {
      "cell_type": "code",
      "source": [
        "# Predictions on training and test data\n",
        "y_train_pred = gradient_boosting.predict(X_train)\n",
        "y_test_pred = gradient_boosting.predict(X_test)\n",
        "\n",
        "# Training Metrics\n",
        "train_r2 = r2_score(y_train, y_train_pred)\n",
        "train_mse = mean_squared_error(y_train, y_train_pred)\n",
        "train_mae = mean_absolute_error(y_train, y_train_pred)\n",
        "\n",
        "# Test Metrics\n",
        "test_r2 = r2_score(y_test, y_test_pred)\n",
        "test_mse = mean_squared_error(y_test, y_test_pred)\n",
        "test_mae = mean_absolute_error(y_test, y_test_pred)\n",
        "\n",
        "print(\"Training Metrics:\")\n",
        "print(f\"R-squared: {train_r2}\")\n",
        "print(f\"MSE: {train_mse}\")\n",
        "print(f\"MAE: {train_mae}\")\n",
        "\n",
        "print(\"\\nTest Metrics:\")\n",
        "print(f\"R-squared: {test_r2}\")\n",
        "print(f\"MSE: {test_mse}\")\n",
        "print(f\"MAE: {test_mae}\")\n",
        "\n",
        "# Overfitting Check\n",
        "if train_r2 > test_r2 + 0.1:\n",
        "    print(\"The model is likely overfitting!\")\n",
        "else:\n",
        "    print(\"The model generalizes well!\")\n"
      ],
      "metadata": {
        "colab": {
          "base_uri": "https://localhost:8080/"
        },
        "id": "vXf7zqIFu0Bo",
        "outputId": "39ac8cd9-b04d-4462-e776-fb924689c0f3"
      },
      "execution_count": null,
      "outputs": [
        {
          "output_type": "stream",
          "name": "stdout",
          "text": [
            "Training Metrics:\n",
            "R-squared: 0.6440939392836593\n",
            "MSE: 136.54647237110586\n",
            "MAE: 9.33323533335567\n",
            "\n",
            "Test Metrics:\n",
            "R-squared: 0.5881209441970863\n",
            "MSE: 156.20291131805234\n",
            "MAE: 9.834974314975927\n",
            "The model generalizes well!\n"
          ]
        }
      ]
    },
    {
      "cell_type": "markdown",
      "source": [
        "**SAMPLE PREDICTION USING GRADIENT BOOSTING REGRESSOR MODEL**"
      ],
      "metadata": {
        "id": "pEFMtN0ll4zm"
      }
    },
    {
      "cell_type": "code",
      "source": [
        "# Sample data to test the model performance and to predict the audience rating\n",
        "\n",
        "sample_data = {\n",
        "    'movie_title': ['New Movie'],\n",
        "    'movie_info': ['A new exciting movie about an adventure in space.'],\n",
        "    'critics_consensus': ['A visually stunning masterpiece with compelling performances.'],\n",
        "    'rating': ['PG-13'],\n",
        "    'genre': ['Science Fiction & Fantasy'],\n",
        "    'directors': ['John Doe'],\n",
        "    'writers': ['Jane Smith'],\n",
        "    'cast': ['Actor 1, Actor 2, Actress 3'],\n",
        "    'runtime_in_minutes': [130],\n",
        "    'tomatometer_rating': [90],\n",
        "    'tomatometer_count': [300],\n",
        "    'tomatometer_status_numerical': [1],\n",
        "    'rating_numerical': [4],\n",
        "    'Anime & Manga': [0],\n",
        "    'Mystery & Suspense': [0],\n",
        "    'Faith & Spirituality': [0],\n",
        "    'Action & Adventure': [1],\n",
        "    'Romance': [0],\n",
        "    'Television': [0],\n",
        "    'Western': [0],\n",
        "    'Kids & Family': [0],\n",
        "    'Special Interest': [0],\n",
        "    'Drama': [0],\n",
        "    'Comedy': [0],\n",
        "    'Documentary': [0],\n",
        "    'Art House & International': [0],\n",
        "    'Cult Movies': [0],\n",
        "    'Animation': [1],\n",
        "    'Classics': [0],\n",
        "    'Gay & Lesbian': [0],\n",
        "    'Musical & Performing Arts': [0],\n",
        "    'Sports & Fitness': [0],\n",
        "    'Horror': [0],\n",
        "    'Science Fiction & Fantasy': [1]\n",
        "}\n",
        "\n",
        "\n",
        "# Convert the sample data into a DataFrame\n",
        "sample_df = pd.DataFrame(sample_data)\n",
        "\n",
        "# Vectorize the text columns using the same TfidfVectorizer used during training\n",
        "sample_critic_tfidf = tfidf_critic.transform(sample_df['critics_consensus'])\n",
        "sample_info_tfidf = tfidf_info.transform(sample_df['movie_info'])\n",
        "\n",
        "# Combine the vectorized text data with numerical data\n",
        "sample_combined = hstack([sample_critic_tfidf, sample_info_tfidf, sample_df[numerical_columns]])\n",
        "\n",
        "# Use the trained model to predict audience rating\n",
        "predicted_rating = gradient_boosting.predict(sample_combined)\n",
        "\n",
        "print(f\"Predicted Audience Rating: {predicted_rating[0]}\")\n"
      ],
      "metadata": {
        "colab": {
          "base_uri": "https://localhost:8080/"
        },
        "id": "od4CzX1i9Mpv",
        "outputId": "dc9b2098-4210-4354-f183-97f1b4805642"
      },
      "execution_count": null,
      "outputs": [
        {
          "output_type": "stream",
          "name": "stdout",
          "text": [
            "Predicted Audience Rating: 79.29111373658417\n"
          ]
        }
      ]
    }
  ]
}